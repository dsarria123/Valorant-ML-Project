{
 "cells": [
  {
   "cell_type": "code",
   "execution_count": 1,
   "metadata": {},
   "outputs": [],
   "source": [
    "import sqlite3\n",
    "import pandas as pd\n",
    "\n",
    "# Path to the SQLite database\n",
    "db_file_path = 'valorant.sqlite'\n",
    "\n",
    "# Connect to the SQLite database\n",
    "conn = sqlite3.connect(db_file_path)\n",
    "\n",
    "# List of tables in the database\n",
    "tables = ['Matches', 'Games', 'Game_Rounds', 'Game_Scoreboard']\n",
    "\n",
    "# Loop through each table and export to CSV\n",
    "for table in tables:\n",
    "    df = pd.read_sql(f'SELECT * FROM {table}', conn)\n",
    "    df.to_csv(f'{table}.csv', index=False)\n",
    "\n",
    "# Close the database connection\n",
    "conn.close()\n"
   ]
  }
 ],
 "metadata": {
  "kernelspec": {
   "display_name": "Python 3",
   "language": "python",
   "name": "python3"
  },
  "language_info": {
   "codemirror_mode": {
    "name": "ipython",
    "version": 3
   },
   "file_extension": ".py",
   "mimetype": "text/x-python",
   "name": "python",
   "nbconvert_exporter": "python",
   "pygments_lexer": "ipython3",
   "version": "3.11.5"
  }
 },
 "nbformat": 4,
 "nbformat_minor": 2
}
