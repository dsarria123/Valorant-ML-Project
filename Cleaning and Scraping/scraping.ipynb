{
 "cells": [
  {
   "cell_type": "markdown",
   "metadata": {},
   "source": [
    "**Scraping and Wrangling**\n",
    "\n",
    "To begin I will be using the data from the 14 playoff matches"
   ]
  },
  {
   "cell_type": "code",
   "execution_count": 4,
   "metadata": {},
   "outputs": [
    {
     "name": "stdout",
     "output_type": "stream",
     "text": [
      "2023-06-17 01:30:00\n",
      "['Paper Rex', 'DRX']\n",
      "2 0 Paper Rex DRX\n",
      "BO3\n"
     ]
    }
   ],
   "source": [
    "import pandas as pd\n",
    "from selenium import webdriver\n",
    "from selenium.webdriver.common.by import By\n",
    "driver = webdriver.Firefox()\n",
    "\n",
    "links = [\n",
    "    'https://www.vlr.gg/220441/paper-rex-vs-drx-champions-tour-2023-masters-tokyo-ubqf',\n",
    "    'https://www.vlr.gg/220442/fnatic-vs-nrg-esports-champions-tour-2023-masters-tokyo-ubqf',\n",
    "    'https://www.vlr.gg/220443/team-liquid-vs-edward-gaming-champions-tour-2023-masters-tokyo-ubqf',\n",
    "    'https://www.vlr.gg/220444/loud-vs-evil-geniuses-champions-tour-2023-masters-tokyo-ubqf',\n",
    "    'https://www.vlr.gg/220445/paper-rex-vs-fnatic-champions-tour-2023-masters-tokyo-ubsf',\n",
    "    'https://www.vlr.gg/220446/team-liquid-vs-evil-geniuses-champions-tour-2023-masters-tokyo-ubsf',\n",
    "    'https://www.vlr.gg/220447/fnatic-vs-evil-geniuses-champions-tour-2023-masters-tokyo-ubf',\n",
    "    'https://www.vlr.gg/220448/fnatic-vs-evil-geniuses-champions-tour-2023-masters-tokyo-gf'\n",
    "    'https://www.vlr.gg/220449/drx-vs-nrg-esports-champions-tour-2023-masters-tokyo-lr1',\n",
    "    'https://www.vlr.gg/220450/edward-gaming-vs-loud-champions-tour-2023-masters-tokyo-lr1',\n",
    "    'https://www.vlr.gg/220451/team-liquid-vs-nrg-esports-champions-tour-2023-masters-tokyo-lr2',\n",
    "    'https://www.vlr.gg/220452/paper-rex-vs-edward-gaming-champions-tour-2023-masters-tokyo-lr2',\n",
    "    'https://www.vlr.gg/220453/nrg-esports-vs-paper-rex-champions-tour-2023-masters-tokyo-lr3',\n",
    "    'https://www.vlr.gg/220454/evil-geniuses-vs-paper-rex-champions-tour-2023-masters-tokyo-lbf'\n",
    "]\n",
    "\n",
    "\n",
    "driver.get(links[0])\n",
    "\n",
    "#Find date\n",
    "date_element = driver.find_element(By.CLASS_NAME,'moment-tz-convert')\n",
    "date = date_element.get_attribute('data-utc-ts')\n",
    "print(date) ##PRINT\n",
    "\n",
    "#Find team\n",
    "teams_elements = driver.find_elements(By.CLASS_NAME, 'wf-title-med')\n",
    "teams = [team.text for team in teams_elements]\n",
    "print(teams) ##PRINT\n",
    "\n",
    "#Find Score and winner/loser\n",
    "\n",
    "    # Extracting the score values\n",
    "winner_score_element = driver.find_element(By.CLASS_NAME, 'match-header-vs-score-winner')\n",
    "winner_score = int(winner_score_element.text)  # Convert the score to an integer for comparison\n",
    "\n",
    "loser_score_element = driver.find_element(By.CLASS_NAME, 'match-header-vs-score-loser')\n",
    "loser_score = int(loser_score_element.text)\n",
    "    #To find winner\n",
    "if winner_score > loser_score:\n",
    "    winning_team = teams[0]\n",
    "    losing_team = teams[1]\n",
    "else:\n",
    "    winning_team = teams[1]\n",
    "    losing_team = teams[0]\n",
    "print(winner_score,loser_score,winning_team,losing_team) ##PRINT\n",
    "\n",
    "\n",
    "#Find series type\n",
    "series_type_element = driver.find_elements(By.CLASS_NAME, 'match-header-vs-note')\n",
    "series_type = series_type_element[1].text  \n",
    "print(series_type)\n",
    "\n",
    "# Get all the map boxes\n",
    "all_map_boxes = driver.find_elements(By.CLASS_NAME, 'vm-stats-gamesnav-item')\n",
    "\n",
    "# Filter out disabled map tabs\n",
    "clickable_map_boxes = [box for box in all_map_boxes if 'mod-disabled' not in box.get_attribute('class')]\n",
    "\n",
    "for box in clickable_map_boxes:\n",
    "    box.click()  # Click on the map box\n",
    "\n",
    "    # Find the div block that becomes visible\n",
    "    visible_div = driver.find_element(By.CSS_SELECTOR, \"div[style*='display: block;']\")\n",
    "    # Find the stats tables for both teams within the visible div\n",
    "    stats_tables = visible_div.find_elements(By.CLASS_NAME, 'wf-table-inset')\n",
    "\n",
    "   # Iterate over the tables to extract information:\n",
    "\n",
    "\n",
    "\n",
    "\n",
    "\n",
    "\n"
   ]
  }
 ],
 "metadata": {
  "interpreter": {
   "hash": "aee8b7b246df8f9039afb4144a1f6fd8d2ca17a180786b69acc140d282b71a49"
  },
  "kernelspec": {
   "display_name": "Python 3.12.0 64-bit",
   "language": "python",
   "name": "python3"
  },
  "language_info": {
   "codemirror_mode": {
    "name": "ipython",
    "version": 3
   },
   "file_extension": ".py",
   "mimetype": "text/x-python",
   "name": "python",
   "nbconvert_exporter": "python",
   "pygments_lexer": "ipython3",
   "version": "3.11.5"
  },
  "orig_nbformat": 4
 },
 "nbformat": 4,
 "nbformat_minor": 2
}
