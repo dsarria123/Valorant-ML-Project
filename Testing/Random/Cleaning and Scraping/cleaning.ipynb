{
 "cells": [
  {
   "cell_type": "code",
   "execution_count": null,
   "metadata": {},
   "outputs": [],
   "source": [
    "import pandas as pd\n",
    "\n",
    "# Load the CSV files\n",
    "games = pd.read_csv('Games.csv')\n",
    "gamesSB = pd.read_csv('Game_Scoreboard.csv')\n",
    "\n",
    "# Replace empty strings with NaN\n",
    "games = games.replace('', pd.NA)\n",
    "gamesSB = gamesSB.replace('', pd.NA)\n",
    "\n",
    "# Remove rows with NaN values (which now include original NaNs and replaced empty strings)\n",
    "games_cleaned = games.dropna()\n",
    "gamesSB_cleaned = gamesSB.dropna()\n",
    "\n",
    "# Save the cleaned data to new CSV files\n",
    "games_cleaned.to_csv('OfficialGames.csv', index=False)\n",
    "gamesSB_cleaned.to_csv('OfficialGame_Scoreboard.csv', index=False)\n"
   ]
  }
 ],
 "metadata": {
  "language_info": {
   "name": "python"
  }
 },
 "nbformat": 4,
 "nbformat_minor": 2
}
