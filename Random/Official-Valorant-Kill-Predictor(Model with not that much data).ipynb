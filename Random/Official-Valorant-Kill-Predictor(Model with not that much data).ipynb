{
 "cells": [
  {
   "cell_type": "markdown",
   "metadata": {},
   "source": [
    "## First, I need user input. Provide a player name, the opposing team, and map being played(if known).\n",
    "### This code below will run error checking and save the values given"
   ]
  },
  {
   "cell_type": "code",
   "execution_count": 1,
   "metadata": {},
   "outputs": [],
   "source": [
    "import pandas as pd\n",
    "from difflib import SequenceMatcher\n",
    "\n",
    "# Load the datasets\n",
    "gameScoreboard = 'Data/OfficialGame_Scoreboard.csv'\n",
    "games = 'Data/OfficialGames.csv'\n",
    "\n",
    "# Reading the CSV files\n",
    "scoreboard_df = pd.read_csv(gameScoreboard)\n",
    "games_df = pd.read_csv(games)\n",
    "\n",
    "#The data didn't have a way of comparing TeamAbbreviated to TeamID/Team names so I used this code to convert it.\n",
    "def similarity(a, b):\n",
    "    \"\"\"Calculate the similarity score between two strings.\"\"\"\n",
    "    return SequenceMatcher(None, a, b).ratio()\n",
    "\n",
    "def find_most_similar_team(abbreviation, team1, team2):\n",
    "    \"\"\"Find the most similar team name to the abbreviation.\"\"\"\n",
    "    sim1 = similarity(abbreviation, team1)\n",
    "    sim2 = similarity(abbreviation, team2)\n",
    "    return team1 if sim1 >= sim2 else team2\n",
    "\n",
    "#Method to make sure input values are valid. \n",
    "def checkInputValues(player_name, map_name, oteam_name):\n",
    "    if not player_name.strip():\n",
    "        return \"Player name cannot be empty.\"\n",
    "    if not map_name.strip():\n",
    "        return \"Map name cannot be empty.\"\n",
    "    if not oteam_name.strip():\n",
    "        return \"Opposing team name cannot be empty.\"\n",
    "\n",
    "    if player_name not in scoreboard_df['PlayerName'].values:\n",
    "        return \"Player name not found in the dataset.\"\n",
    "    if map_name not in games_df['Map'].values:\n",
    "        return \"Map name not found in the dataset.\"\n",
    "    if oteam_name not in games_df['Team1'].values and oteam_name not in games_df['Team2'].values:\n",
    "        return \"Opposing team name not found in the dataset.\"\n",
    "\n",
    "    return \"All inputs are valid.\"\n",
    "\n",
    "# Get user input\n",
    "player_name = input(\"Enter player name: \")\n",
    "map_name = input(\"Enter map name: \")\n",
    "oteam_name = input(\"Enter opposing team name: \")\n",
    "\n"
   ]
  },
  {
   "cell_type": "markdown",
   "metadata": {},
   "source": [
    "### Next, I need to make a data set based off that information. This data set will be used to make features for the model"
   ]
  },
  {
   "cell_type": "code",
   "execution_count": 2,
   "metadata": {},
   "outputs": [
    {
     "name": "stdout",
     "output_type": "stream",
     "text": [
      "   GameID  PlayerID PlayerName TeamAbbreviation Agent    ACS  Kills  Deaths  \\\n",
      "0   60894    8419.0     Reduxx             Boos  jett  313.0   24.0    10.0   \n",
      "1   60895    8419.0     Reduxx             Boos  skye   94.0    5.0    13.0   \n",
      "2   60896    8419.0     Reduxx             Boos  jett  339.0   25.0    14.0   \n",
      "3   60888    8419.0     Reduxx             Boos  jett  302.0   21.0    12.0   \n",
      "4   60889    8419.0     Reduxx             Boos  jett  176.0   12.0    16.0   \n",
      "\n",
      "   Assists  PlusMinus  ...  Team2_Eco  Team2_EcoWon  Team2_SemiEco  \\\n",
      "0      3.0       14.0  ...        4.0           0.0            2.0   \n",
      "1      0.0       -8.0  ...        2.0           2.0            0.0   \n",
      "2      5.0       11.0  ...        2.0           1.0            2.0   \n",
      "3      3.0        9.0  ...        2.0           2.0            0.0   \n",
      "4      3.0       -4.0  ...        3.0           1.0            3.0   \n",
      "\n",
      "   Team2_SemiEcoWon  Team2_SemiBuy  Team2_SemiBuyWon  Team2_FullBuy  \\\n",
      "0               0.0            4.0               1.0           10.0   \n",
      "1               0.0            4.0               3.0            9.0   \n",
      "2               0.0            6.0               2.0           11.0   \n",
      "3               0.0            5.0               3.0           13.0   \n",
      "4               0.0            5.0               2.0            9.0   \n",
      "\n",
      "   Team2_FullBuyWon           PlayerTeam  OpposingTeam  \n",
      "0               6.0  Booster Seat Gaming      Pho Real  \n",
      "1               8.0  Booster Seat Gaming      Pho Real  \n",
      "2               5.0  Booster Seat Gaming      Pho Real  \n",
      "3               8.0  Booster Seat Gaming         Akrew  \n",
      "4               4.0  Booster Seat Gaming         Akrew  \n",
      "\n",
      "[5 rows x 65 columns]\n"
     ]
    }
   ],
   "source": [
    "#Method to create the data set for the player\n",
    "def create_player_dataset(player_name, scoreboard_df, games_df):\n",
    "    # Filter the scoreboard for the player\n",
    "    targetplayer_data = scoreboard_df[scoreboard_df['PlayerName'] == player_name]\n",
    "\n",
    "    # Combining that data with the games dataset to get additional information (using GameID)\n",
    "    combined_data = targetplayer_data.merge(games_df, on='GameID', how='left')\n",
    "\n",
    "    # Handling the opposing team by finding the most similar team to the TeamAbbreviation\n",
    "    combined_data['PlayerTeam'] = combined_data.apply(\n",
    "        lambda row: find_most_similar_team(row['TeamAbbreviation'], row['Team1'], row['Team2']), axis=1)\n",
    "    combined_data['OpposingTeam'] = combined_data.apply(\n",
    "        lambda row: row['Team2'] if row['PlayerTeam'] == row['Team1'] else row['Team1'], axis=1)\n",
    "\n",
    "    return combined_data\n",
    "\n",
    "# Assuming user input has been validated\n",
    "player_dataset = create_player_dataset(player_name, scoreboard_df, games_df)\n",
    "\n",
    "# Show the first few rows of the dataset\n",
    "print(player_dataset.head())"
   ]
  },
  {
   "cell_type": "markdown",
   "metadata": {},
   "source": [
    "### Now I will make new features to put into the model"
   ]
  },
  {
   "cell_type": "markdown",
   "metadata": {},
   "source": [
    "Ideas for features: Avg KDA, Avg ACS, Win percentage in a map, etc."
   ]
  },
  {
   "cell_type": "code",
   "execution_count": 3,
   "metadata": {},
   "outputs": [],
   "source": [
    "#Have to do this\n",
    "\n",
    "player_dataset['AvgKills'] = player_dataset.groupby('PlayerName')['Kills'].transform('mean')\n",
    "player_dataset['AvgDeaths'] = player_dataset.groupby('PlayerName')['Deaths'].transform('mean')\n",
    "player_dataset['AvgAssists'] = player_dataset.groupby('PlayerName')['Assists'].transform('mean')\n",
    "player_dataset['AvgACS'] = player_dataset.groupby('PlayerName')['ACS'].transform('mean')\n",
    "player_dataset['PlayerWin'] = (player_dataset['PlayerTeam'] == player_dataset['Winner']).astype(int)\n",
    "player_dataset['MapWinRate'] = player_dataset.groupby(['PlayerName', 'Map'])['PlayerWin'].transform('mean')\n",
    "\n",
    "\n",
    "\n"
   ]
  },
  {
   "cell_type": "markdown",
   "metadata": {},
   "source": [
    "# Training the Model with the new data set and new features\n",
    "Will be completed once I finish the features"
   ]
  },
  {
   "cell_type": "code",
   "execution_count": 15,
   "metadata": {},
   "outputs": [
    {
     "name": "stdout",
     "output_type": "stream",
     "text": [
      "Kill Prediction:  35.80228637771036\n"
     ]
    }
   ],
   "source": [
    "from sklearn.model_selection import train_test_split\n",
    "from sklearn.linear_model import LinearRegression\n",
    "from sklearn.metrics import mean_squared_error\n",
    "import pandas as pd\n",
    "\n",
    "games = player_dataset\n",
    "\n",
    "\n",
    "#'kills' is the target variable and 'feature1', 'feature2'... are the predictors\n",
    "X = player_dataset[['AvgKills','AvgACS','PlayerWin','MapWinRate']]  # Need to replace with actual features\n",
    "y = player_dataset['Kills']\n",
    "\n",
    "\n",
    "# Split the data into training and testing sets\n",
    "X_train, X_test, y_train, y_test = train_test_split(X, y, test_size=0.1, random_state=42)\n",
    "\n",
    "# Create a linear regression model\n",
    "model = LinearRegression()\n",
    "\n",
    "# Train the model\n",
    "model.fit(X_train, y_train)\n",
    "\n",
    "# Make predictions\n",
    "y_pred = model.predict(X_test)\n",
    "\n",
    "# Evaluate the model\n",
    "mse = mean_squared_error(y_test, y_pred)\n",
    "print(\"Kill Prediction: \", mse)\n"
   ]
  },
  {
   "cell_type": "markdown",
   "metadata": {},
   "source": [
    "### TODO: Need more data for training, need more features"
   ]
  }
 ],
 "metadata": {
  "kernelspec": {
   "display_name": "Python 3",
   "language": "python",
   "name": "python3"
  },
  "language_info": {
   "codemirror_mode": {
    "name": "ipython",
    "version": 3
   },
   "file_extension": ".py",
   "mimetype": "text/x-python",
   "name": "python",
   "nbconvert_exporter": "python",
   "pygments_lexer": "ipython3",
   "version": "3.11.5"
  }
 },
 "nbformat": 4,
 "nbformat_minor": 2
}
